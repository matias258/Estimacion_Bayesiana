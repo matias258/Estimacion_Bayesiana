{
 "cells": [
  {
   "cell_type": "markdown",
   "metadata": {},
   "source": [
    "# Entrega 2"
   ]
  },
  {
   "cell_type": "markdown",
   "metadata": {},
   "source": [
    "## Ejercicio 1"
   ]
  },
  {
   "cell_type": "markdown",
   "metadata": {},
   "source": [
    "### a. ¿Que situacion se representa con una variable aleatoria geometrica?"
   ]
  },
  {
   "cell_type": "markdown",
   "metadata": {},
   "source": [
    "Usamos una variable aleatoria geométrica para modelar el número de intentos necesarios hasta llegar al primer éxito en ensayos de Bernoulli independientes y con probabilidad constante de éxito $\\theta$\n",
    "\n",
    "Algunos ejemplos son:\n",
    "- Lanzamientos de una moneda\n",
    "- Control de Calidad\n",
    "- y muchos mas"
   ]
  },
  {
   "cell_type": "markdown",
   "metadata": {},
   "source": [
    "### b. Derivar la distribucion posterior para $\\theta$ suponiendo que se observó Y = y. Identificar la distribución encontrada y sus parámetros."
   ]
  },
  {
   "cell_type": "markdown",
   "metadata": {},
   "source": [
    "Sabemos:\n",
    "1. Prior ∼ Beta(a, b)\n",
    "2. Likelihood: $P(Y = y∣\\theta) = \\theta(1 - \\theta)^{y-1}$\n",
    "3. Posterior: Multiplicamos el Prior por la Likelihood y normalizamos:\n",
    "    - $\\theta ∣ Y = y ∼ Beta(a + 1, b + y - 1)$"
   ]
  },
  {
   "cell_type": "markdown",
   "metadata": {},
   "source": [
    "### c. ¿El modelo Beta es un prior conjugado de la Geométrica?"
   ]
  },
  {
   "cell_type": "markdown",
   "metadata": {},
   "source": [
    "Si, pues el Prior y el Posterior pertenecen al mismo tipo de distribuciones (Beta)"
   ]
  },
  {
   "cell_type": "markdown",
   "metadata": {},
   "source": [
    "---\n",
    "\n",
    "Bis: Ejemplo (para mi) para fijar mejor las ideas:\n",
    "\n",
    "Supongamos un juego de donde se debe lanzar un dado y se gana al sacar un \"6\". Se quiere estimar la probabilidad $\\theta$ de ganar en un solo lanzamiento. \n",
    "\n",
    "Supongo que es dificil sacar ese \"6\", pero no estoy seguro y quiero actualizar mi creencia luego de cada lanzamiento.\n",
    "\n",
    "Entonces:\n",
    "- Variable aleatoria Y: Numero de lanzamientos hasta sacar el \"6\".\n",
    "- Distr Geometrica: $P(Y = y∣\\theta) = \\theta(1 - \\theta)^{y-1}$\n",
    "- Prior Beta: Empezamos de forma pesimista sobre sacar un \"6\". a = 2, b = 10.\n",
    "\n",
    "Observacion:\n",
    "\n",
    "Imagino que juego el juego, y el primer \"6\" aparece en mi 5to lanzamiento. Y = 5.\n",
    "\n",
    "Actualizacion:\n",
    "\n",
    "- Likelihood: Y = 5 con lo que:  $\\theta (1 - \\theta)^{4}$\n",
    "- Posterior: Posterior $\\alpha$ Prior * Likelihood = Beta(2, 10) * $\\theta (1 - \\theta)^{4}$\n",
    "        - Es decir: Post $\\alpha$ $\\theta^{2 + 1}(1 - \\theta)^{10 + 4 - 1}$ = $\\theta^{3}(1 - \\theta)^{13}$\n",
    "\n",
    "Esto significa que el Post tambien es Beta. Pues Post = Beta(3, 13)\n",
    "\n",
    "---"
   ]
  }
 ],
 "metadata": {
  "language_info": {
   "name": "python"
  }
 },
 "nbformat": 4,
 "nbformat_minor": 2
}
